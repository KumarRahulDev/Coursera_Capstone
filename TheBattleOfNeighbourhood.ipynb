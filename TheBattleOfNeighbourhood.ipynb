{
 "cells": [
  {
   "cell_type": "markdown",
   "metadata": {},
   "source": [
    "<b>Locations for New Fashion Stores in High Traffic Areas in Paris France\n",
    "The Task At Hand\n",
    "</b>\n",
    "A digitally native vertical fashion retailer, with a substantial e-commerce footprint, has begun the rollout of brick and mortar stores as part of their omnichannel retail strategy. After rolling out stores in a few select cities by guessing where the best locations were to open, as part of their store expansion for Paris they've decided to be more informed and selective, and take the time to do some research.\n",
    "\n",
    "I've been given the exciting task of assisting them to make data-driven decisions on the new locations that are most suitable for their new stores in Paris. This will be a major part of their decision-making process, the other being on the ground qualitative analysis of districts once this data and report are reviewed and studied.\n",
    "\n",
    "The fashion brand is not what is considered high-end, they are positioned in upper end of the fast fashion market. As such, they do not seek stores in the premium upmarket strips like Avenue Montaigne, but rather, in high traffic areas where consumers go for shopping, restaurants and entertainment. Foursquare data will be very helpful in making data-driven decisions about the best of those areas.\n",
    "\n",
    "<b>Criteria\n",
    "</b>\n",
    "Qualitative data from another retailer that they know, suggests that the best locations to open new fashion retail stores may not only be where other clothing is located. This data strongly suggests that the best places are in fact areas that are near French Restaurants, Cafés and Wine Bars. Parisians are very social people that frequent these place often, so opening new stores in these locations is becoming popular.\n",
    "\n",
    "The analysis and recommendations for new store locations will focus on general districts with these establishments, not on specific store addresses. Narrowing down the best district options derived from analysis allows for either further research to be conducted, advising agents of the chosen district, or on the ground searching for specific sites by the company's personnel.\n",
    "\n",
    "<b>Why Data?</b>\n",
    "\n",
    "Without leveraging data to make decisions about new store locations, the company could spend countless hours walking around districts, consulting many real estate agents with their own district biases, and end up opening in yet another location that is not ideal.\n",
    "\n",
    "Data will provide better answers and better solutions to their task at hand.\n",
    "\n",
    "<b>Outcomes\n",
    "</b>\n",
    "The goal is to identify the best districts - Arrondissements - to open new stores as part of the company's plan. The results will be translated to management in a simple form that will convey the data-driven analysis for the best locations to open stores."
   ]
  },
  {
   "cell_type": "code",
   "execution_count": null,
   "metadata": {},
   "outputs": [],
   "source": []
  },
  {
   "cell_type": "markdown",
   "metadata": {},
   "source": [
    "<u>Data Requirements</u>\n",
    "\n",
    "The main districts in Paris are divided into 20 Arrondissements Municipaux (administrative districts), shortened to arrondissements.\n",
    "\n",
    "The data regarding the districts in Paris needs to be researched and a suitable useable source identified. If it is found but is not in a useable form, data wrangling and cleaning will have to be performed.\n",
    "\n",
    "The cleansed data will then be used alongside Foursquare data, which is readily available. Foursquare location data will be leveraged to explore or compare districts around Paris, identifying the high traffic areas where consumers go for shopping, dining and entertainment - the areas where the fashion brand are most interested in opening new stores.\n",
    "\n",
    "<u>The Data Science Workflow for Part 1 & 2 includes the following:\n",
    "</u>\n",
    "Outline the initial data that is required:\n",
    "District data for Paris including names, location data if available, and any other details required.\n",
    "Obtain the Data:\n",
    "Research and find suitable sources for the district data for Paris.\n",
    "Access and explore the data to determine if it can be manipulated for our purposes.\n",
    "Initial Data Wrangling and Cleaning:\n",
    "Clean the data and convert to a useable form as a dataframe.\n",
    "The Data Science Workflow for parts 3 & 4 includes:\n",
    "\n",
    "<u>Data Analysis and Location Data:</u>\n",
    "\n",
    "Foursquare location data will be leveraged to explore or compare districts around Paris.\n",
    "\n",
    "Data manipulation and analysis to derive subsets of the initial data.\n",
    "\n",
    "Identifying the high traffic areas using data visualisation and tatistical nalysis.\n",
    "\n",
    "<u>Visualization:</u>\n",
    "\n",
    "Analysis and plotting visualizations.\n",
    "\n",
    "Data visualization using various mapping libraries.\n",
    "\n",
    "<u>Discussion and Conclusions:</u>\n",
    "\n",
    "Recomendations and results based on the data analysis.\n",
    "\n",
    "Discussion of any limitations and how the results can be used, and any conclusions that can be drawn."
   ]
  },
  {
   "cell_type": "code",
   "execution_count": null,
   "metadata": {},
   "outputs": [],
   "source": []
  }
 ],
 "metadata": {
  "kernelspec": {
   "display_name": "Python 3",
   "language": "python",
   "name": "python3"
  },
  "language_info": {
   "codemirror_mode": {
    "name": "ipython",
    "version": 3
   },
   "file_extension": ".py",
   "mimetype": "text/x-python",
   "name": "python",
   "nbconvert_exporter": "python",
   "pygments_lexer": "ipython3",
   "version": "3.7.3"
  }
 },
 "nbformat": 4,
 "nbformat_minor": 4
}
